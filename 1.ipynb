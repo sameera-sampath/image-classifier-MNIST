{
 "cells": [
  {
   "cell_type": "code",
   "execution_count": 61,
   "metadata": {},
   "outputs": [],
   "source": [
    "import tensorflow as tf\n",
    "(x_train, y_train), (x_test, y_test) = tf.keras.datasets.mnist.load_data()"
   ]
  },
  {
   "cell_type": "code",
   "execution_count": 7,
   "metadata": {},
   "outputs": [
    {
     "name": "stdout",
     "output_type": "stream",
     "text": [
      "3\n"
     ]
    }
   ],
   "source": [
    "import matplotlib.pyplot as plt\n",
    "%matplotlib inline \n",
    "image_index = 2603\n",
    "print(y_train[image_index])"
   ]
  },
  {
   "cell_type": "code",
   "execution_count": 8,
   "metadata": {},
   "outputs": [
    {
     "data": {
      "text/plain": [
       "<matplotlib.image.AxesImage at 0x24256e56358>"
      ]
     },
     "execution_count": 8,
     "metadata": {},
     "output_type": "execute_result"
    },
    {
     "data": {
      "image/png": "[encoded data removed]",
      "text/plain": [
       "<Figure size 432x288 with 1 Axes>"
      ]
     },
     "metadata": {
      "needs_background": "light"
     },
     "output_type": "display_data"
    }
   ],
   "source": [
    "plt.imshow(x_train[image_index], cmap='Greys')"
   ]
  },
  {
   "cell_type": "code",
   "execution_count": 9,
   "metadata": {},
   "outputs": [
    {
     "data": {
      "text/plain": [
       "(60000, 28, 28)"
      ]
     },
     "execution_count": 9,
     "metadata": {},
     "output_type": "execute_result"
    }
   ],
   "source": [
    "x_train.shape"
   ]
  },
  {
   "cell_type": "code",
   "execution_count": 62,
   "metadata": {},
   "outputs": [
    {
     "name": "stdout",
     "output_type": "stream",
     "text": [
      "x_train shape: (60000, 28, 28, 1)\n",
      "Number of images in x_train 60000\n",
      "Number of images in x_test 10000\n"
     ]
    }
   ],
   "source": [
    "# Reshaping the array to 4-dims so that it can work with the Keras API\n",
    "x_train = x_train.reshape(x_train.shape[0], 28, 28, 1)\n",
    "x_test = x_test.reshape(x_test.shape[0], 28, 28, 1)\n",
    "input_shape = (28, 28, 1)\n",
    "# Making sure that the values are float so that we can get decimal points after division\n",
    "x_train = x_train.astype('float32')\n",
    "x_test = x_test.astype('float32')\n",
    "# Normalizing the RGB codes by dividing it to the max RGB value.\n",
    "x_train /= 255\n",
    "x_test /= 255\n",
    "print('x_train shape:', x_train.shape)\n",
    "print('Number of images in x_train', x_train.shape[0])\n",
    "print('Number of images in x_test', x_test.shape[0])"
   ]
  },
  {
   "cell_type": "code",
   "execution_count": 63,
   "metadata": {},
   "outputs": [],
   "source": [
    "# Importing the required Keras modules containing model and layers\n",
    "from tensorflow.keras.models import Sequential\n",
    "from tensorflow.keras.layers import Dense, Conv2D, Dropout, Flatten, MaxPooling2D, Activation\n",
    "# Creating a Sequential Model and adding the layers\n",
    "model = Sequential()\n",
    "model.add(Conv2D(28, kernel_size=(4,4), input_shape=input_shape))\n",
    "model.add(MaxPooling2D(pool_size=(3, 3)))\n",
    "model.add(Flatten()) # Flattening the 2D arrays for fully connected layers\n",
    "model.add(Dense(150, activation=tf.nn.relu))\n",
    "model.add(Dropout(0.15))\n",
    "model.add(Dense(10,activation=tf.nn.softmax))"
   ]
  },
  {
   "cell_type": "code",
   "execution_count": 69,
   "metadata": {},
   "outputs": [],
   "source": [
    "from tensorflow.keras.optimizers import SGD, RMSprop, Adam"
   ]
  },
  {
   "cell_type": "code",
   "execution_count": 16,
   "metadata": {},
   "outputs": [
    {
     "name": "stdout",
     "output_type": "stream",
     "text": [
      "Train on 60000 samples\n",
      "Epoch 1/10\n",
      "60000/60000 [==============================] - 14s 231us/sample - loss: 0.1796 - accuracy: 0.9473\n",
      "Epoch 2/10\n",
      "60000/60000 [==============================] - 13s 209us/sample - loss: 0.0625 - accuracy: 0.9812\n",
      "Epoch 3/10\n",
      "60000/60000 [==============================] - 13s 214us/sample - loss: 0.0423 - accuracy: 0.9865\n",
      "Epoch 4/10\n",
      "60000/60000 [==============================] - 13s 222us/sample - loss: 0.0302 - accuracy: 0.9904\n",
      "Epoch 5/10\n",
      "60000/60000 [==============================] - 14s 237us/sample - loss: 0.0246 - accuracy: 0.9922\n",
      "Epoch 6/10\n",
      "60000/60000 [==============================] - 14s 235us/sample - loss: 0.0207 - accuracy: 0.9932\n",
      "Epoch 7/10\n",
      "60000/60000 [==============================] - 14s 239us/sample - loss: 0.0173 - accuracy: 0.9942\n",
      "Epoch 8/10\n",
      "60000/60000 [==============================] - 15s 249us/sample - loss: 0.0154 - accuracy: 0.9950\n",
      "Epoch 9/10\n",
      "60000/60000 [==============================] - 15s 250us/sample - loss: 0.0133 - accuracy: 0.9956\n",
      "Epoch 10/10\n",
      "60000/60000 [==============================] - 15s 257us/sample - loss: 0.0135 - accuracy: 0.9954\n"
     ]
    },
    {
     "data": {
      "text/plain": [
       "<tensorflow.python.keras.callbacks.History at 0x24254087588>"
      ]
     },
     "execution_count": 16,
     "metadata": {},
     "output_type": "execute_result"
    }
   ],
   "source": [
    "model.compile(optimizer='adam', \n",
    "              loss='sparse_categorical_crossentropy', \n",
    "              metrics=['accuracy'])\n",
    "model.fit(x=x_train,y=y_train, epochs=10)"
   ]
  },
  {
   "cell_type": "code",
   "execution_count": 17,
   "metadata": {},
   "outputs": [
    {
     "name": "stdout",
     "output_type": "stream",
     "text": [
      "10000/10000 [==============================] - 1s 92us/sample - loss: 0.0493 - accuracy: 0.9888\n"
     ]
    },
    {
     "data": {
      "text/plain": [
       "[0.04933782550218816, 0.9888]"
      ]
     },
     "execution_count": 17,
     "metadata": {},
     "output_type": "execute_result"
    }
   ],
   "source": [
    "model.evaluate(x_test, y_test)"
   ]
  },
  {
   "cell_type": "code",
   "execution_count": 14,
   "metadata": {},
   "outputs": [
    {
     "name": "stdout",
     "output_type": "stream",
     "text": [
      "9\n"
     ]
    },
    {
     "data": {
      "image/png": "[encoded data removed]",
      "text/plain": [
       "<Figure size 432x288 with 1 Axes>"
      ]
     },
     "metadata": {
      "needs_background": "light"
     },
     "output_type": "display_data"
    }
   ],
   "source": [
    "image_index = 4444\n",
    "plt.imshow(x_test[image_index].reshape(28, 28),cmap='Greys')\n",
    "pred = model.predict(x_test[image_index].reshape(1, 28, 28, 1))\n",
    "print(pred.argmax())"
   ]
  },
  {
   "cell_type": "code",
   "execution_count": 18,
   "metadata": {},
   "outputs": [
    {
     "name": "stdout",
     "output_type": "stream",
     "text": [
      "Train on 60000 samples\n",
      "Epoch 1/10\n",
      "60000/60000 [==============================] - 21s 348us/sample - loss: 0.2032 - accuracy: 0.9389\n",
      "Epoch 2/10\n",
      "60000/60000 [==============================] - 20s 334us/sample - loss: 0.0837 - accuracy: 0.9749\n",
      "Epoch 3/10\n",
      "60000/60000 [==============================] - 20s 329us/sample - loss: 0.0573 - accuracy: 0.9822\n",
      "Epoch 4/10\n",
      "60000/60000 [==============================] - 20s 332us/sample - loss: 0.0435 - accuracy: 0.9866\n",
      "Epoch 5/10\n",
      "60000/60000 [==============================] - 21s 346us/sample - loss: 0.0365 - accuracy: 0.9878\n",
      "Epoch 6/10\n",
      "60000/60000 [==============================] - 21s 343us/sample - loss: 0.0285 - accuracy: 0.9902\n",
      "Epoch 7/10\n",
      "60000/60000 [==============================] - 21s 350us/sample - loss: 0.0237 - accuracy: 0.9917\n",
      "Epoch 8/10\n",
      "60000/60000 [==============================] - 21s 356us/sample - loss: 0.0225 - accuracy: 0.9923\n",
      "Epoch 9/10\n",
      "60000/60000 [==============================] - 22s 361us/sample - loss: 0.0197 - accuracy: 0.9935\n",
      "Epoch 10/10\n",
      "60000/60000 [==============================] - 23s 382us/sample - loss: 0.0181 - accuracy: 0.9939\n"
     ]
    },
    {
     "data": {
      "text/plain": [
       "<tensorflow.python.keras.callbacks.History at 0x24254607da0>"
      ]
     },
     "execution_count": 18,
     "metadata": {},
     "output_type": "execute_result"
    }
   ],
   "source": [
    "# Creating a Sequential Model and adding the layers\n",
    "model = Sequential()\n",
    "model.add(Conv2D(28, kernel_size=(3,3), input_shape=input_shape))\n",
    "model.add(MaxPooling2D(pool_size=(2, 2)))\n",
    "model.add(Flatten()) # Flattening the 2D arrays for fully connected layers\n",
    "model.add(Dense(128, activation=tf.nn.relu))\n",
    "model.add(Dropout(0.2))\n",
    "model.add(Dense(10,activation=tf.nn.softmax))\n",
    "model.compile(optimizer='adam', \n",
    "              loss='sparse_categorical_crossentropy', \n",
    "              metrics=['accuracy'])\n",
    "model.fit(x=x_train,y=y_train, epochs=10)"
   ]
  },
  {
   "cell_type": "code",
   "execution_count": 19,
   "metadata": {},
   "outputs": [
    {
     "name": "stdout",
     "output_type": "stream",
     "text": [
      "10000/10000 [==============================] - 1s 114us/sample - loss: 0.0653 - accuracy: 0.9850\n"
     ]
    },
    {
     "data": {
      "text/plain": [
       "[0.0653046725635384, 0.985]"
      ]
     },
     "execution_count": 19,
     "metadata": {},
     "output_type": "execute_result"
    }
   ],
   "source": [
    "model.evaluate(x_test, y_test)"
   ]
  },
  {
   "cell_type": "code",
   "execution_count": 20,
   "metadata": {},
   "outputs": [
    {
     "name": "stdout",
     "output_type": "stream",
     "text": [
      "Train on 60000 samples\n",
      "Epoch 1/10\n",
      "60000/60000 [==============================] - 24s 402us/sample - loss: 0.1922 - accuracy: 0.9437\n",
      "Epoch 2/10\n",
      "60000/60000 [==============================] - 24s 392us/sample - loss: 0.0739 - accuracy: 0.9775\n",
      "Epoch 3/10\n",
      "60000/60000 [==============================] - 22s 364us/sample - loss: 0.0478 - accuracy: 0.9849\n",
      "Epoch 4/10\n",
      "60000/60000 [==============================] - 24s 398us/sample - loss: 0.0356 - accuracy: 0.9883\n",
      "Epoch 5/10\n",
      "60000/60000 [==============================] - 23s 376us/sample - loss: 0.0274 - accuracy: 0.9911\n",
      "Epoch 6/10\n",
      "60000/60000 [==============================] - 23s 388us/sample - loss: 0.0240 - accuracy: 0.9921\n",
      "Epoch 7/10\n",
      "60000/60000 [==============================] - 22s 367us/sample - loss: 0.0179 - accuracy: 0.9940\n",
      "Epoch 8/10\n",
      "60000/60000 [==============================] - 24s 398us/sample - loss: 0.0165 - accuracy: 0.9944\n",
      "Epoch 9/10\n",
      "60000/60000 [==============================] - 22s 363us/sample - loss: 0.0157 - accuracy: 0.9946\n",
      "Epoch 10/10\n",
      "60000/60000 [==============================] - 29s 476us/sample - loss: 0.0132 - accuracy: 0.9956\n"
     ]
    },
    {
     "data": {
      "text/plain": [
       "<tensorflow.python.keras.callbacks.History at 0x242546c6048>"
      ]
     },
     "execution_count": 20,
     "metadata": {},
     "output_type": "execute_result"
    }
   ],
   "source": [
    "model = Sequential()\n",
    "model.add(Conv2D(28, kernel_size=(3,3), input_shape=input_shape))\n",
    "model.add(MaxPooling2D(pool_size=(2, 2)))\n",
    "model.add(Flatten()) # Flattening the 2D arrays for fully connected layers\n",
    "model.add(Dense(150, activation=tf.nn.relu))\n",
    "model.add(Dropout(0.15))\n",
    "model.add(Dense(10,activation=tf.nn.softmax))\n",
    "model.compile(optimizer='adam', \n",
    "              loss='sparse_categorical_crossentropy', \n",
    "              metrics=['accuracy'])\n",
    "model.fit(x=x_train,y=y_train, epochs=10)"
   ]
  },
  {
   "cell_type": "code",
   "execution_count": 21,
   "metadata": {},
   "outputs": [
    {
     "name": "stdout",
     "output_type": "stream",
     "text": [
      "10000/10000 [==============================] - 2s 187us/sample - loss: 0.0750 - accuracy: 0.9853\n"
     ]
    },
    {
     "data": {
      "text/plain": [
       "[0.0750453478543193, 0.9853]"
      ]
     },
     "execution_count": 21,
     "metadata": {},
     "output_type": "execute_result"
    }
   ],
   "source": [
    "model.evaluate(x_test, y_test)"
   ]
  },
  {
   "cell_type": "code",
   "execution_count": 22,
   "metadata": {},
   "outputs": [
    {
     "name": "stdout",
     "output_type": "stream",
     "text": [
      "Train on 60000 samples\n",
      "Epoch 1/10\n",
      "60000/60000 [==============================] - 30s 508us/sample - loss: 0.1915 - accuracy: 0.9424\n",
      "Epoch 2/10\n",
      "60000/60000 [==============================] - 31s 523us/sample - loss: 0.0746 - accuracy: 0.9773- loss: 0.0749 - accuracy: 0.97 - ETA: 1s - - ETA: 0s - loss:\n",
      "Epoch 3/10\n",
      "60000/60000 [==============================] - 30s 499us/sample - loss: 0.0507 - accuracy: 0.9842\n",
      "Epoch 4/10\n",
      "60000/60000 [==============================] - 29s 480us/sample - loss: 0.0384 - accuracy: 0.9879\n",
      "Epoch 5/10\n",
      "60000/60000 [==============================] - 23s 386us/sample - loss: 0.0290 - accuracy: 0.9909\n",
      "Epoch 6/10\n",
      "60000/60000 [==============================] - 22s 364us/sample - loss: 0.0215 - accuracy: 0.9930\n",
      "Epoch 7/10\n",
      "60000/60000 [==============================] - 24s 395us/sample - loss: 0.0193 - accuracy: 0.9932\n",
      "Epoch 8/10\n",
      "60000/60000 [==============================] - 24s 395us/sample - loss: 0.0163 - accuracy: 0.9949\n",
      "Epoch 9/10\n",
      "60000/60000 [==============================] - 23s 383us/sample - loss: 0.0145 - accuracy: 0.9953\n",
      "Epoch 10/10\n",
      "60000/60000 [==============================] - 29s 479us/sample - loss: 0.0130 - accuracy: 0.9955-\n"
     ]
    },
    {
     "data": {
      "text/plain": [
       "<tensorflow.python.keras.callbacks.History at 0x24254b5a160>"
      ]
     },
     "execution_count": 22,
     "metadata": {},
     "output_type": "execute_result"
    }
   ],
   "source": [
    "model = Sequential()\n",
    "model.add(Conv2D(28, kernel_size=(3,3), input_shape=input_shape))\n",
    "model.add(MaxPooling2D(pool_size=(2, 2)))\n",
    "model.add(Flatten()) # Flattening the 2D arrays for fully connected layers\n",
    "model.add(Dense(150, activation=tf.nn.tanh))\n",
    "model.add(Dropout(0.15))\n",
    "model.add(Dense(10,activation=tf.nn.softmax))\n",
    "model.compile(optimizer='adam', \n",
    "              loss='sparse_categorical_crossentropy', \n",
    "              metrics=['accuracy'])\n",
    "model.fit(x=x_train,y=y_train, epochs=10)"
   ]
  },
  {
   "cell_type": "code",
   "execution_count": 23,
   "metadata": {},
   "outputs": [
    {
     "name": "stdout",
     "output_type": "stream",
     "text": [
      "10000/10000 [==============================] - 4s 404us/sample - loss: 0.0541 - accuracy: 0.9847 - los\n"
     ]
    },
    {
     "data": {
      "text/plain": [
       "[0.05405416563136641, 0.9847]"
      ]
     },
     "execution_count": 23,
     "metadata": {},
     "output_type": "execute_result"
    }
   ],
   "source": [
    "model.evaluate(x_test, y_test)"
   ]
  },
  {
   "cell_type": "code",
   "execution_count": 24,
   "metadata": {},
   "outputs": [
    {
     "name": "stdout",
     "output_type": "stream",
     "text": [
      "Train on 60000 samples\n",
      "Epoch 1/10\n",
      "60000/60000 [==============================] - 43s 712us/sample - loss: 0.1976 - accuracy: 0.9404- loss: 0.1\n",
      "Epoch 2/10\n",
      "60000/60000 [==============================] - 42s 694us/sample - loss: 0.0819 - accuracy: 0.9751\n",
      "Epoch 3/10\n",
      "60000/60000 [==============================] - 25s 410us/sample - loss: 0.0579 - accuracy: 0.9821\n",
      "Epoch 4/10\n",
      "60000/60000 [==============================] - 21s 352us/sample - loss: 0.0424 - accuracy: 0.9865\n",
      "Epoch 5/10\n",
      "60000/60000 [==============================] - 22s 360us/sample - loss: 0.0347 - accuracy: 0.9889\n",
      "Epoch 6/10\n",
      "60000/60000 [==============================] - 22s 370us/sample - loss: 0.0283 - accuracy: 0.9907\n",
      "Epoch 7/10\n",
      "60000/60000 [==============================] - 21s 342us/sample - loss: 0.0237 - accuracy: 0.9926\n",
      "Epoch 8/10\n",
      "60000/60000 [==============================] - 21s 346us/sample - loss: 0.0228 - accuracy: 0.9922\n",
      "Epoch 9/10\n",
      "60000/60000 [==============================] - 21s 356us/sample - loss: 0.0198 - accuracy: 0.9935\n",
      "Epoch 10/10\n",
      "60000/60000 [==============================] - 21s 345us/sample - loss: 0.0171 - accuracy: 0.9944\n"
     ]
    },
    {
     "data": {
      "text/plain": [
       "<tensorflow.python.keras.callbacks.History at 0x24264d05198>"
      ]
     },
     "execution_count": 24,
     "metadata": {},
     "output_type": "execute_result"
    }
   ],
   "source": [
    "# Creating a Sequential Model and adding the layers\n",
    "model = Sequential()\n",
    "model.add(Conv2D(28, kernel_size=(3,3), input_shape=input_shape))\n",
    "model.add(MaxPooling2D(pool_size=(2, 2)))\n",
    "model.add(Flatten()) # Flattening the 2D arrays for fully connected layers\n",
    "model.add(Dense(128, activation=tf.nn.tanh))\n",
    "model.add(Dropout(0.2))\n",
    "model.add(Dense(10,activation=tf.nn.softmax))\n",
    "model.compile(optimizer='adam', \n",
    "              loss='sparse_categorical_crossentropy', \n",
    "              metrics=['accuracy'])\n",
    "model.fit(x=x_train,y=y_train, epochs=10)"
   ]
  },
  {
   "cell_type": "code",
   "execution_count": 25,
   "metadata": {},
   "outputs": [
    {
     "name": "stdout",
     "output_type": "stream",
     "text": [
      "10000/10000 [==============================] - 2s 177us/sample - loss: 0.0600 - accuracy: 0.9846\n"
     ]
    },
    {
     "data": {
      "text/plain": [
       "[0.06001423866052064, 0.9846]"
      ]
     },
     "execution_count": 25,
     "metadata": {},
     "output_type": "execute_result"
    }
   ],
   "source": [
    "model.evaluate(x_test, y_test)"
   ]
  },
  {
   "cell_type": "code",
   "execution_count": 26,
   "metadata": {},
   "outputs": [
    {
     "name": "stdout",
     "output_type": "stream",
     "text": [
      "Train on 60000 samples\n",
      "Epoch 1/10\n",
      "60000/60000 [==============================] - 16s 266us/sample - loss: 0.1520 - accuracy: 0.9542\n",
      "Epoch 2/10\n",
      "60000/60000 [==============================] - 15s 250us/sample - loss: 0.0607 - accuracy: 0.9820\n",
      "Epoch 3/10\n",
      "60000/60000 [==============================] - 17s 285us/sample - loss: 0.0423 - accuracy: 0.9862- los\n",
      "Epoch 4/10\n",
      "60000/60000 [==============================] - 23s 390us/sample - loss: 0.0329 - accuracy: 0.9896- loss:\n",
      "Epoch 5/10\n",
      "60000/60000 [==============================] - 21s 351us/sample - loss: 0.0250 - accuracy: 0.9926\n",
      "Epoch 6/10\n",
      "60000/60000 [==============================] - 16s 268us/sample - loss: 0.0195 - accuracy: 0.9939\n",
      "Epoch 7/10\n",
      "60000/60000 [==============================] - 15s 249us/sample - loss: 0.0164 - accuracy: 0.9948\n",
      "Epoch 8/10\n",
      "60000/60000 [==============================] - 15s 252us/sample - loss: 0.0141 - accuracy: 0.9952\n",
      "Epoch 9/10\n",
      "60000/60000 [==============================] - 16s 260us/sample - loss: 0.0119 - accuracy: 0.9960\n",
      "Epoch 10/10\n",
      "60000/60000 [==============================] - 16s 271us/sample - loss: 0.0109 - accuracy: 0.9963\n"
     ]
    },
    {
     "data": {
      "text/plain": [
       "<tensorflow.python.keras.callbacks.History at 0x24266af4a20>"
      ]
     },
     "execution_count": 26,
     "metadata": {},
     "output_type": "execute_result"
    }
   ],
   "source": [
    "model = Sequential()\n",
    "model.add(Conv2D(28, kernel_size=(4,4), input_shape=input_shape))\n",
    "model.add(MaxPooling2D(pool_size=(3, 3)))\n",
    "model.add(Flatten()) # Flattening the 2D arrays for fully connected layers\n",
    "model.add(Dense(150, activation=tf.nn.tanh))\n",
    "model.add(Dropout(0.15))\n",
    "model.add(Dense(10,activation=tf.nn.softmax))\n",
    "model.compile(optimizer='adam', \n",
    "              loss='sparse_categorical_crossentropy', \n",
    "              metrics=['accuracy'])\n",
    "model.fit(x=x_train,y=y_train, epochs=10)"
   ]
  },
  {
   "cell_type": "code",
   "execution_count": 27,
   "metadata": {},
   "outputs": [
    {
     "name": "stdout",
     "output_type": "stream",
     "text": [
      "10000/10000 [==============================] - 1s 123us/sample - loss: 0.0440 - accuracy: 0.9877\n"
     ]
    },
    {
     "data": {
      "text/plain": [
       "[0.04399394721869648, 0.9877]"
      ]
     },
     "execution_count": 27,
     "metadata": {},
     "output_type": "execute_result"
    }
   ],
   "source": [
    "model.evaluate(x_test, y_test)"
   ]
  },
  {
   "cell_type": "code",
   "execution_count": 40,
   "metadata": {},
   "outputs": [
    {
     "name": "stderr",
     "output_type": "stream",
     "text": [
      "Using TensorFlow backend.\n"
     ]
    }
   ],
   "source": [
    "from hyperopt import Trials, STATUS_OK, tpe\n",
    "from hyperas import optim\n",
    "from hyperas.distributions import choice, uniform"
   ]
  },
  {
   "cell_type": "code",
   "execution_count": 41,
   "metadata": {},
   "outputs": [],
   "source": [
    "from sklearn.model_selection import train_test_split"
   ]
  },
  {
   "cell_type": "code",
   "execution_count": 44,
   "metadata": {},
   "outputs": [],
   "source": [
    "from tensorflow.keras.utils import to_categorical"
   ]
  },
  {
   "cell_type": "code",
   "execution_count": 75,
   "metadata": {},
   "outputs": [],
   "source": [
    "def data():\n",
    "    (x_train, y_train), (x_test, y_test) = tf.keras.datasets.mnist.load_data()\n",
    "    x_train = x_train.reshape(x_train.shape[0], 28, 28, 1)\n",
    "    x_test = x_test.reshape(x_test.shape[0], 28, 28, 1)\n",
    "    x_train = x_train.astype('float32')\n",
    "    x_test = x_test.astype('float32')\n",
    "    x_train /= 255\n",
    "    x_test /= 255\n",
    "    input_shape = (28, 28, 1)\n",
    "    return x_train, y_train, x_test, y_test, input_shape"
   ]
  },
  {
   "cell_type": "code",
   "execution_count": 76,
   "metadata": {},
   "outputs": [],
   "source": [
    "def model(x_train, y_train, x_test, y_test, input_shape):\n",
    "    model = Sequential()\n",
    "    model.add(Conv2D(28, kernel_size={{choice([(3,3), (5,5), (1,1)])}}, padding={{choice(['valid', 'same'])}}, input_shape=input_shape))\n",
    "    model.add(MaxPooling2D(pool_size={{choice([(3,3), (2,2)])}}))\n",
    "    model.add(Flatten()) # Flattening the 2D arrays for fully connected layers\n",
    "    model.add(Dense({{choice([128, 256, 512, 1024])}}))\n",
    "    model.add(Activation({{choice(['relu', 'sigmoid', 'tanh'])}}))\n",
    "    model.add(Dropout({{uniform(0, 1)}}))\n",
    "    if {{choice(['one', 'two'])}} == 'two':\n",
    "        model.add(Dense({{choice([64, 128, 256, 512])}}))\n",
    "        model.add(Activation({{choice(['relu', 'sigmoid', 'tanh'])}}))\n",
    "        model.add(Dropout({{uniform(0, 1)}}))\n",
    "    model.add(Dense(10,activation=tf.nn.softmax))\n",
    "    choiceval = {{choice(['adam', 'sgd', 'rmsprop'])}}\n",
    "    if choiceval == 'adam':\n",
    "        optim = Adam(lr={{choice([10**-3, 10**-2, 10**-1])}})\n",
    "    elif choiceval == 'rmsprop':\n",
    "        optim = RMSprop(lr={{choice([10**-3, 10**-2, 10**-1])}})\n",
    "    else:\n",
    "        optim = SGD(lr={{choice([10**-3, 10**-2, 10**-1])}})\n",
    "    model.compile(optimizer=optim, \n",
    "                  loss='sparse_categorical_crossentropy', \n",
    "                  metrics=['accuracy'])\n",
    "    model.fit(x=x_train,y=y_train, epochs=10, validation_data=(x_test, y_test))\n",
    "    score, acc = model.evaluate(x_test, y_test, verbose=0)\n",
    "    print('Test accuracy:', acc)\n",
    "    return {'loss': -acc, 'status': STATUS_OK, 'model': model}"
   ]
  },
  {
   "cell_type": "code",
   "execution_count": null,
   "metadata": {},
   "outputs": [],
   "source": [
    "best_run, best_model = optim.minimize(model=model,\n",
    "                                      data=data,\n",
    "                                      algo=tpe.suggest,\n",
    "                                      max_evals=100,\n",
    "                                      trials=Trials(),notebook_name='1')"
   ]
  },
  {
   "cell_type": "code",
   "execution_count": 85,
   "metadata": {},
   "outputs": [
    {
     "name": "stdout",
     "output_type": "stream",
     "text": [
      "Best performing model chosen hyper-parameters:\n",
      "{'Activation': 2, 'Activation_1': 0, 'Dense': 0, 'Dense_1': 0, 'Dropout': 0.32445680895915574, 'Dropout_1': 1, 'Dropout_2': 0.1540676602242441, 'choiceval': 0, 'kernel_size': 0, 'lr': 0, 'lr_1': 1, 'lr_2': 2, 'padding': 1, 'pool_size': 0}\n",
      "Evalutation of best performing model:\n",
      "10000/10000 [==============================] - 1s 134us/sample - loss: 0.0447 - accuracy: 0.9883\n",
      "[0.04474290358855797, 0.9883]\n"
     ]
    }
   ],
   "source": [
    "x_train, y_train, x_test, y_test, input_shape = data()\n",
    "print(\"Best performing model chosen hyper-parameters:\")\n",
    "print(best_run)\n",
    "print(\"Evalutation of best performing model:\")\n",
    "print(best_model.evaluate(x_test, y_test))"
   ]
  },
  {
   "cell_type": "code",
   "execution_count": 115,
   "metadata": {},
   "outputs": [
    {
     "name": "stdout",
     "output_type": "stream",
     "text": [
      "Train on 60000 samples, validate on 10000 samples\n",
      "Epoch 1/10\n",
      "60000/60000 [==============================] - 22s 360us/sample - loss: 0.2195 - accuracy: 0.9337 - val_loss: 0.0670 - val_accuracy: 0.9790\n",
      "Epoch 2/10\n",
      "60000/60000 [==============================] - 22s 360us/sample - loss: 0.0822 - accuracy: 0.9746 - val_loss: 0.0538 - val_accuracy: 0.9833\n",
      "Epoch 3/10\n",
      "60000/60000 [==============================] - 22s 372us/sample - loss: 0.0589 - accuracy: 0.9816 - val_loss: 0.0533 - val_accuracy: 0.9824\n",
      "Epoch 4/10\n",
      "60000/60000 [==============================] - 22s 363us/sample - loss: 0.0478 - accuracy: 0.9854 - val_loss: 0.0429 - val_accuracy: 0.9860\n",
      "Epoch 5/10\n",
      "60000/60000 [==============================] - 22s 366us/sample - loss: 0.0397 - accuracy: 0.9870 - val_loss: 0.0466 - val_accuracy: 0.9866\n",
      "Epoch 6/10\n",
      "60000/60000 [==============================] - 21s 357us/sample - loss: 0.0324 - accuracy: 0.9897 - val_loss: 0.0513 - val_accuracy: 0.9875\n",
      "Epoch 7/10\n",
      "60000/60000 [==============================] - 21s 358us/sample - loss: 0.0284 - accuracy: 0.9910 - val_loss: 0.0495 - val_accuracy: 0.9875\n",
      "Epoch 8/10\n",
      "60000/60000 [==============================] - 22s 367us/sample - loss: 0.0270 - accuracy: 0.9909 - val_loss: 0.0461 - val_accuracy: 0.9881\n",
      "Epoch 9/10\n",
      "60000/60000 [==============================] - 23s 378us/sample - loss: 0.0241 - accuracy: 0.9921 - val_loss: 0.0518 - val_accuracy: 0.9867\n",
      "Epoch 10/10\n",
      "60000/60000 [==============================] - 23s 383us/sample - loss: 0.0200 - accuracy: 0.9935 - val_loss: 0.0503 - val_accuracy: 0.9877\n"
     ]
    },
    {
     "data": {
      "text/plain": [
       "<tensorflow.python.keras.callbacks.History at 0x24253483dd8>"
      ]
     },
     "execution_count": 115,
     "metadata": {},
     "output_type": "execute_result"
    }
   ],
   "source": [
    "model = Sequential()\n",
    "model.add(Conv2D(28, kernel_size=(3,3), padding='same', input_shape=input_shape))\n",
    "model.add(MaxPooling2D(pool_size=(3,3)))\n",
    "model.add(Flatten()) # Flattening the 2D arrays for fully connected layers\n",
    "model.add(Dense(128, activation=tf.nn.relu))\n",
    "model.add(Dropout(0.154067660224244))\n",
    "model.add(Dense(64, activation=tf.nn.relu))\n",
    "model.add(Dropout(0.154067660224244))\n",
    "model.add(Dense(10,activation=tf.nn.softmax))\n",
    "optim = Adam(lr=10**-3)\n",
    "model.compile(optimizer=optim, \n",
    "              loss='sparse_categorical_crossentropy', \n",
    "              metrics=['accuracy'])\n",
    "model.fit(x=x_train,y=y_train, epochs=10, validation_data=(x_test, y_test))"
   ]
  },
  {
   "cell_type": "code",
   "execution_count": 116,
   "metadata": {},
   "outputs": [
    {
     "name": "stdout",
     "output_type": "stream",
     "text": [
      "10000/10000 [==============================] - 1s 148us/sample - loss: 0.0503 - accuracy: 0.9877\n"
     ]
    },
    {
     "data": {
      "text/plain": [
       "[0.050322839014456985, 0.9877]"
      ]
     },
     "execution_count": 116,
     "metadata": {},
     "output_type": "execute_result"
    }
   ],
   "source": [
    "model.evaluate(x_test, y_test)"
   ]
  },
  {
   "cell_type": "code",
   "execution_count": null,
   "metadata": {},
   "outputs": [],
   "source": []
  }
 ],
 "metadata": {
  "kernelspec": {
   "display_name": "Python 3",
   "language": "python",
   "name": "python3"
  },
  "language_info": {
   "codemirror_mode": {
    "name": "ipython",
    "version": 3
   },
   "file_extension": ".py",
   "mimetype": "text/x-python",
   "name": "python",
   "nbconvert_exporter": "python",
   "pygments_lexer": "ipython3",
   "version": "3.7.1"
  }
 },
 "nbformat": 4,
 "nbformat_minor": 4
}
